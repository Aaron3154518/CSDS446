{
 "cells": [
  {
   "cell_type": "code",
   "execution_count": 6,
   "metadata": {},
   "outputs": [
    {
     "name": "stdout",
     "output_type": "stream",
     "text": [
      "-29.727845071623694\n",
      "-32.93532210436723\n",
      "-33.75164331636273\n",
      "-31.911322280520253\n",
      "-33.264258572948236\n",
      "-32.93532210436723\n",
      "-33.75164331636273\n"
     ]
    }
   ],
   "source": [
    "from itertools import product\n",
    "from math import log\n",
    "\n",
    "\n",
    "params = [\n",
    "    ([[10, 1], [1, 10]], [11, 11]),\n",
    "    ([[6, 3], [3, 10]], [9, 13]),\n",
    "    ([[4, 4], [4, 10]], [8, 14]),\n",
    "    ([[6, 2], [2, 12]], [8, 14]),\n",
    "    ([[12, 3], [3, 4]], [15, 7]),\n",
    "    ([[10, 3], [3, 6]], [13, 9]),\n",
    "    ([[10, 4], [4, 4]], [14, 8]),\n",
    "]\n",
    "for m, k in params:\n",
    "    if sum(k) != 22 or sum(m_ij for m_i in m for m_ij in m_i) != 22:\n",
    "        print(\"BAD\")\n",
    "        continue\n",
    "    print(\n",
    "        0.5\n",
    "        * sum(\n",
    "            m[r][s] * log(m[r][s] / k[r] / k[s]) for r, s in product(range(2), range(2))\n",
    "        )\n",
    "    )"
   ]
  }
 ],
 "metadata": {
  "kernelspec": {
   "display_name": "Python 3",
   "language": "python",
   "name": "python3"
  },
  "language_info": {
   "codemirror_mode": {
    "name": "ipython",
    "version": 3
   },
   "file_extension": ".py",
   "mimetype": "text/x-python",
   "name": "python",
   "nbconvert_exporter": "python",
   "pygments_lexer": "ipython3",
   "version": "3.10.11"
  }
 },
 "nbformat": 4,
 "nbformat_minor": 2
}
