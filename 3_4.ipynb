{
 "cells": [
  {
   "cell_type": "code",
   "execution_count": 1,
   "metadata": {},
   "outputs": [
    {
     "name": "stdout",
     "output_type": "stream",
     "text": [
      "-29.727845071623694\n",
      "-32.93532210436723\n",
      "-33.75164331636273\n",
      "-31.911322280520253\n",
      "-33.264258572948236\n",
      "-32.93532210436723\n",
      "-33.75164331636273\n"
     ]
    }
   ],
   "source": [
    "from itertools import product\n",
    "from math import log\n",
    "\n",
    "\n",
    "params = [\n",
    "    ([[10, 1], [1, 10]], [11, 11]),\n",
    "    ([[6, 3], [3, 10]], [9, 13]),\n",
    "    ([[4, 4], [4, 10]], [8, 14]),\n",
    "    ([[6, 2], [2, 12]], [8, 14]),\n",
    "    ([[12, 3], [3, 4]], [15, 7]),\n",
    "    ([[10, 3], [3, 6]], [13, 9]),\n",
    "    ([[10, 4], [4, 4]], [14, 8]),\n",
    "]\n",
    "for m, k in params:\n",
    "    if sum(k) != 22 or sum(m_ij for m_i in m for m_ij in m_i) != 22:\n",
    "        print(\"BAD\")\n",
    "        continue\n",
    "    print(\n",
    "        0.5\n",
    "        * sum(\n",
    "            m[r][s] * log(m[r][s] / k[r] / k[s]) for r, s in product(range(2), range(2))\n",
    "        )\n",
    "    )"
   ]
  },
  {
   "cell_type": "code",
   "execution_count": 2,
   "metadata": {},
   "outputs": [],
   "source": [
    "import numpy as np\n",
    "\n",
    "A = np.zeros((8, 8), dtype=int)\n",
    "for i, j in [(0, 1), (0, 2), (1, 2), (1, 3), (2, 3), (3, 4), (4, 5), (4, 6), (4, 7), (5, 7), (6, 7)]:\n",
    "    A[i, j] = A[j, i] = 1"
   ]
  },
  {
   "cell_type": "code",
   "execution_count": 89,
   "metadata": {},
   "outputs": [],
   "source": [
    "from scipy.linalg import eig\n",
    "\n",
    "k = 2\n",
    "t = np.average(np.sum(A, axis=1))\n",
    "\n",
    "D_t = np.diag((np.sum(A, axis=1) + t) ** -0.5)\n",
    "L = D_t @ A @ D_t\n",
    "\n",
    "w, vr = eig(L, right=True)\n",
    "idxs = np.argsort(np.abs(w))[::-1][:k]\n",
    "w, vr = w[idxs], vr[:, idxs]"
   ]
  },
  {
   "cell_type": "code",
   "execution_count": 98,
   "metadata": {},
   "outputs": [],
   "source": [
    "from scipy.cluster.vq import kmeans\n",
    "\n",
    "centroids, dist = kmeans(vr, 2)\n",
    "classes = np.array([\n",
    "    np.argmin([np.linalg.norm(centroids[j] - vr[i]) for j in range(k)])\n",
    "    for i in range(len(A))\n",
    "])\n",
    "groups = np.array([np.argwhere(classes == i).flatten() for i in range(k)])"
   ]
  },
  {
   "cell_type": "code",
   "execution_count": 109,
   "metadata": {},
   "outputs": [
    {
     "name": "stdout",
     "output_type": "stream",
     "text": [
      "g_1 = { 1, 2, 3, 4 }\n",
      "g_2 = { 5, 6, 7, 8 }\n",
      "c_1 = 2\n",
      "c_2 = 3\n",
      "c_3 = 3\n",
      "c_4 = 3\n",
      "c_5 = 4\n",
      "c_6 = 2\n",
      "c_7 = 2\n",
      "c_8 = 3\n",
      "w =\n",
      " [[0.625  0.0625]\n",
      " [0.0625 0.625 ]]\n"
     ]
    }
   ],
   "source": [
    "for i in range(k):\n",
    "    print(f\"g_{i + 1} = {{\", \", \".join(str(k) for k in groups[i] + 1), \"}\")\n",
    "\n",
    "for i in range(len(A)):\n",
    "    print(f\"c_{i + 1} =\", A[i].sum())\n",
    "\n",
    "w = np.array([[A[groups[s]][:, groups[r]].sum() / len(groups[s]) / len(groups[r]) for s in range(k)] for r in range(k)])\n",
    "print(\"w =\\n\", w)"
   ]
  }
 ],
 "metadata": {
  "kernelspec": {
   "display_name": "Python 3",
   "language": "python",
   "name": "python3"
  },
  "language_info": {
   "codemirror_mode": {
    "name": "ipython",
    "version": 3
   },
   "file_extension": ".py",
   "mimetype": "text/x-python",
   "name": "python",
   "nbconvert_exporter": "python",
   "pygments_lexer": "ipython3",
   "version": "3.10.11"
  }
 },
 "nbformat": 4,
 "nbformat_minor": 2
}
