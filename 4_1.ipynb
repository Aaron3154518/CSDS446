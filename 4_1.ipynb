{
 "cells": [
  {
   "cell_type": "code",
   "execution_count": null,
   "metadata": {},
   "outputs": [],
   "source": []
  },
  {
   "cell_type": "markdown",
   "metadata": {},
   "source": [
    "$P(x_i,x_j>0)=(1-\\Phi(-\\mu))^2$\n",
    "\n",
    "$P(x_i,x_j\\leq 0)=\\Phi(-\\mu)^2$\n",
    "\n",
    "$P(x_i\\leftrightarrow x_j)=\\theta P(x_i,x_j>0) + \\psi P(x_i,x_j\\leq 0)=\\theta(1-\\Phi(-\\mu))^2 + \\psi\\Phi(-\\mu)^2$"
   ]
  }
 ],
 "metadata": {
  "language_info": {
   "name": "python"
  }
 },
 "nbformat": 4,
 "nbformat_minor": 2
}
