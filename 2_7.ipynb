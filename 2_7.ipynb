{
 "cells": [
  {
   "cell_type": "code",
   "execution_count": 111,
   "metadata": {},
   "outputs": [],
   "source": [
    "import numpy as np\n",
    "import networkx as nx\n",
    "import karateclub as kc\n",
    "from sklearn.metrics import roc_auc_score\n",
    "import math"
   ]
  },
  {
   "cell_type": "code",
   "execution_count": 122,
   "metadata": {},
   "outputs": [],
   "source": [
    "from itertools import combinations\n",
    "from typing import Any, Callable, Dict, Iterator, Tuple\n",
    "\n",
    "ScoreFunc = Callable[[int, int, nx.Graph], float]\n",
    "\n",
    "\n",
    "def preferential_attachment(n: int, m: int, graph: nx.Graph) -> float:\n",
    "    return graph.degree(n) * graph.degree(m)\n",
    "\n",
    "\n",
    "def common_neighbors(n: int, m: int, graph: nx.Graph) -> float:\n",
    "    return len(set(graph.neighbors(n)) & set(graph.neighbors(m)))\n",
    "\n",
    "\n",
    "def jacquard(n: int, m: int, graph: nx.Graph) -> float:\n",
    "    n_n, n_m = set(graph.neighbors(n)), set(graph.neighbors(m))\n",
    "    return len(n_n & n_m) / len(n_n | n_m)\n",
    "\n",
    "\n",
    "def adamic_adar(n: int, m: int, graph: nx.Graph) -> float:\n",
    "    neighbors = set(graph.neighbors(n)) & set(graph.neighbors(m))\n",
    "    return sum(\n",
    "        1 / math.log(graph.degree(k)) if graph.degree(k) > 1 else 0 for k in neighbors\n",
    "    )\n",
    "\n",
    "\n",
    "def random(n: int, m: int, graph: nx.Graph) -> float:\n",
    "    return np.random.uniform(0, 1)\n",
    "\n",
    "\n",
    "def missing_links(graph: nx.Graph) -> Iterator[Tuple[int, int]]:\n",
    "    return filter(lambda ns: not graph.has_edge(*ns), combinations(graph.nodes, 2))\n",
    "\n",
    "\n",
    "def evaluate(\n",
    "    graph: nx.Graph,\n",
    "    score: ScoreFunc,\n",
    "    true_links: np.ndarray,\n",
    "    k: int = 8,\n",
    "    T: int = 1,\n",
    "    print_links: bool = False,\n",
    "    kwargs_func: Callable[[nx.Graph], Dict[str, Any]] = lambda g: {},\n",
    "):\n",
    "    top_score = acc = auroc = 0\n",
    "    for _ in range(T):\n",
    "        missing = np.array(list(missing_links(graph)))\n",
    "\n",
    "        kwargs = kwargs_func(graph)\n",
    "        scores = np.array([(n, m, score(n, m, graph, **kwargs)) for n, m in missing])\n",
    "\n",
    "        # top_idxs = np.argpartition(scores[:, 2], -k)[-k:]\n",
    "        top_idxs = np.argsort(scores[:, 2])[::-1][:k]\n",
    "\n",
    "        if print_links:\n",
    "            print(\"Links:\")\n",
    "            print(missing[top_idxs] + 1)\n",
    "\n",
    "        top_score += scores[top_idxs].sum()\n",
    "        acc += true_links[top_idxs].sum()\n",
    "        auroc += roc_auc_score(true_links, scores[:, 2])\n",
    "\n",
    "    name = score.__name__\n",
    "    if name.endswith(\"_score\"):\n",
    "        name = name[: -len(\"_score\")]\n",
    "    print(name)\n",
    "    if T > 1:\n",
    "        print(\"Averaged over\", T, \"trials\")\n",
    "    print(\"Top\", k, \"Score:\", top_score / T)\n",
    "    print(\"Accuracy:\", acc / T, \"/\", k)\n",
    "    print(\"AUROC:\", auroc / T)\n",
    "    print()"
   ]
  },
  {
   "cell_type": "code",
   "execution_count": 113,
   "metadata": {},
   "outputs": [],
   "source": [
    "# Zero index karate club graph\n",
    "graph = nx.karate_club_graph()\n",
    "rm_links = [\n",
    "    (i - 1, j - 1)\n",
    "    for i, j in [\n",
    "        (1, 5),\n",
    "        (2, 4),\n",
    "        (3, 29),\n",
    "        (6, 17),\n",
    "        (9, 34),\n",
    "        (16, 33),\n",
    "        (24, 26),\n",
    "        (25, 32),\n",
    "    ]\n",
    "]\n",
    "graph.remove_edges_from(rm_links)\n",
    "true_links = np.array([(n, m) in rm_links for n, m in missing_links(graph)])"
   ]
  },
  {
   "cell_type": "code",
   "execution_count": null,
   "metadata": {},
   "outputs": [],
   "source": [
    "score_funcs = [preferential_attachment, common_neighbors, jacquard, adamic_adar]\n",
    "\n",
    "evaluate(graph, random, true_links, T=100)\n",
    "for score in score_funcs:\n",
    "    evaluate(graph, score, true_links)"
   ]
  },
  {
   "cell_type": "code",
   "execution_count": 134,
   "metadata": {},
   "outputs": [],
   "source": [
    "import dcsbm\n",
    "import latent_space_model as lsm\n",
    "\n",
    "\n",
    "# Degree-Corrected Stochastic Block Model\n",
    "def dcsbm_params(graph: nx.Graph) -> Dict[str, Any]:\n",
    "    A = nx.to_numpy_array(graph, weight=None) - np.identity(graph.number_of_nodes())\n",
    "    g = dcsbm.regularized_spectral_clustering(A, 2)\n",
    "    _, P = dcsbm.parameter_estimation(A, g)\n",
    "    return {\"g\": g, \"P\": P}\n",
    "\n",
    "\n",
    "def dcsbm_score(\n",
    "    n: int, m: int, graph: nx.Graph, g: np.ndarray = None, P: np.ndarray = None\n",
    ") -> float:\n",
    "    return P[g[n], g[m]]\n",
    "\n",
    "\n",
    "# Latent Space Model\n",
    "def lsm_params(graph: nx.Graph) -> Dict[str, Any]:\n",
    "    A = nx.to_numpy_array(graph, weight=None) - np.identity(graph.number_of_nodes())\n",
    "    X, a, L, res = lsm.estimateParams(A, dim=2)\n",
    "    return {\"X\": X, \"a\": a}\n",
    "\n",
    "\n",
    "def lsm_score(\n",
    "    n: int, m: int, graph: nx.Graph, X: np.ndarray = None, a: float = 0\n",
    ") -> float:\n",
    "    return a - np.linalg.norm(X[n] - X[m])\n",
    "\n",
    "\n",
    "# Deep Walk\n",
    "def deep_walk_embeddings(graph: nx.Graph) -> Dict[str, Any]:\n",
    "    deep_walk = kc.DeepWalk(dimensions=2)\n",
    "    deep_walk.fit(graph)\n",
    "    return {\"x\": deep_walk.get_embedding()}\n",
    "\n",
    "\n",
    "def deep_walk_score(n: int, m: int, graph: nx.Graph, x: np.ndarray = None) -> float:\n",
    "    return x[n] @ x[m]"
   ]
  },
  {
   "cell_type": "code",
   "execution_count": 135,
   "metadata": {},
   "outputs": [
    {
     "name": "stdout",
     "output_type": "stream",
     "text": [
      "random\n",
      "Averaged over 100 trials\n",
      "Top 8 Score: 273.11292757286634\n",
      "Accuracy: 0.18 / 8\n",
      "AUROC: 0.4980615942028985\n",
      "\n",
      "dcsbm\n",
      "Averaged over 5 trials\n",
      "Top 10 Score: 462.0886611717532\n",
      "Accuracy: 0.0 / 10\n",
      "AUROC: 0.661620082815735\n",
      "\n",
      "Initializing latent node positions by multidimensional scaling\n"
     ]
    },
    {
     "name": "stderr",
     "output_type": "stream",
     "text": [
      "C:\\Users\\Aaron\\AppData\\Local\\Packages\\PythonSoftwareFoundation.Python.3.10_qbz5n2kfra8p0\\LocalCache\\local-packages\\Python310\\site-packages\\sklearn\\cluster\\_kmeans.py:1416: FutureWarning: The default value of `n_init` will change from 10 to 'auto' in 1.4. Set the value of `n_init` explicitly to suppress the warning\n",
      "  super()._check_params_vs_input(X, default_n_init=10)\n",
      "C:\\Users\\Aaron\\AppData\\Local\\Packages\\PythonSoftwareFoundation.Python.3.10_qbz5n2kfra8p0\\LocalCache\\local-packages\\Python310\\site-packages\\sklearn\\cluster\\_kmeans.py:1416: FutureWarning: The default value of `n_init` will change from 10 to 'auto' in 1.4. Set the value of `n_init` explicitly to suppress the warning\n",
      "  super()._check_params_vs_input(X, default_n_init=10)\n",
      "C:\\Users\\Aaron\\AppData\\Local\\Packages\\PythonSoftwareFoundation.Python.3.10_qbz5n2kfra8p0\\LocalCache\\local-packages\\Python310\\site-packages\\sklearn\\cluster\\_kmeans.py:1416: FutureWarning: The default value of `n_init` will change from 10 to 'auto' in 1.4. Set the value of `n_init` explicitly to suppress the warning\n",
      "  super()._check_params_vs_input(X, default_n_init=10)\n",
      "C:\\Users\\Aaron\\AppData\\Local\\Packages\\PythonSoftwareFoundation.Python.3.10_qbz5n2kfra8p0\\LocalCache\\local-packages\\Python310\\site-packages\\sklearn\\cluster\\_kmeans.py:1416: FutureWarning: The default value of `n_init` will change from 10 to 'auto' in 1.4. Set the value of `n_init` explicitly to suppress the warning\n",
      "  super()._check_params_vs_input(X, default_n_init=10)\n",
      "C:\\Users\\Aaron\\AppData\\Local\\Packages\\PythonSoftwareFoundation.Python.3.10_qbz5n2kfra8p0\\LocalCache\\local-packages\\Python310\\site-packages\\sklearn\\cluster\\_kmeans.py:1416: FutureWarning: The default value of `n_init` will change from 10 to 'auto' in 1.4. Set the value of `n_init` explicitly to suppress the warning\n",
      "  super()._check_params_vs_input(X, default_n_init=10)\n",
      "C:\\Users\\Aaron\\AppData\\Local\\Packages\\PythonSoftwareFoundation.Python.3.10_qbz5n2kfra8p0\\LocalCache\\local-packages\\Python310\\site-packages\\sklearn\\manifold\\_mds.py:298: FutureWarning: The default value of `normalized_stress` will change to `'auto'` in version 1.4. To suppress this warning, manually set the value of `normalized_stress`.\n",
      "  warnings.warn(\n"
     ]
    },
    {
     "name": "stdout",
     "output_type": "stream",
     "text": [
      "Iteratively maximizing likelihood using quasi-Newton approach\n",
      "Initializing latent node positions by multidimensional scaling\n",
      "Iteratively maximizing likelihood using quasi-Newton approach\n"
     ]
    },
    {
     "name": "stderr",
     "output_type": "stream",
     "text": [
      "C:\\Users\\Aaron\\AppData\\Local\\Packages\\PythonSoftwareFoundation.Python.3.10_qbz5n2kfra8p0\\LocalCache\\local-packages\\Python310\\site-packages\\sklearn\\manifold\\_mds.py:298: FutureWarning: The default value of `normalized_stress` will change to `'auto'` in version 1.4. To suppress this warning, manually set the value of `normalized_stress`.\n",
      "  warnings.warn(\n"
     ]
    },
    {
     "name": "stdout",
     "output_type": "stream",
     "text": [
      "Initializing latent node positions by multidimensional scaling\n",
      "Iteratively maximizing likelihood using quasi-Newton approach\n"
     ]
    },
    {
     "name": "stderr",
     "output_type": "stream",
     "text": [
      "C:\\Users\\Aaron\\AppData\\Local\\Packages\\PythonSoftwareFoundation.Python.3.10_qbz5n2kfra8p0\\LocalCache\\local-packages\\Python310\\site-packages\\sklearn\\manifold\\_mds.py:298: FutureWarning: The default value of `normalized_stress` will change to `'auto'` in version 1.4. To suppress this warning, manually set the value of `normalized_stress`.\n",
      "  warnings.warn(\n"
     ]
    },
    {
     "name": "stdout",
     "output_type": "stream",
     "text": [
      "Initializing latent node positions by multidimensional scaling\n",
      "Iteratively maximizing likelihood using quasi-Newton approach\n"
     ]
    },
    {
     "name": "stderr",
     "output_type": "stream",
     "text": [
      "C:\\Users\\Aaron\\AppData\\Local\\Packages\\PythonSoftwareFoundation.Python.3.10_qbz5n2kfra8p0\\LocalCache\\local-packages\\Python310\\site-packages\\sklearn\\manifold\\_mds.py:298: FutureWarning: The default value of `normalized_stress` will change to `'auto'` in version 1.4. To suppress this warning, manually set the value of `normalized_stress`.\n",
      "  warnings.warn(\n"
     ]
    },
    {
     "name": "stdout",
     "output_type": "stream",
     "text": [
      "Initializing latent node positions by multidimensional scaling\n",
      "Iteratively maximizing likelihood using quasi-Newton approach\n"
     ]
    },
    {
     "name": "stderr",
     "output_type": "stream",
     "text": [
      "C:\\Users\\Aaron\\AppData\\Local\\Packages\\PythonSoftwareFoundation.Python.3.10_qbz5n2kfra8p0\\LocalCache\\local-packages\\Python310\\site-packages\\sklearn\\manifold\\_mds.py:298: FutureWarning: The default value of `normalized_stress` will change to `'auto'` in version 1.4. To suppress this warning, manually set the value of `normalized_stress`.\n",
      "  warnings.warn(\n"
     ]
    },
    {
     "name": "stdout",
     "output_type": "stream",
     "text": [
      "lsm\n",
      "Averaged over 5 trials\n",
      "Top 10 Score: 360.6189439499583\n",
      "Accuracy: 0.6 / 10\n",
      "AUROC: 0.762888198757764\n",
      "\n",
      "deep_walk\n",
      "Averaged over 5 trials\n",
      "Top 10 Score: 547.2291046142578\n",
      "Accuracy: 2.0 / 10\n",
      "AUROC: 0.6880952380952381\n",
      "\n"
     ]
    }
   ],
   "source": [
    "score_funcs = [(dcsbm_params, dcsbm_score), (lsm_params, lsm_score), (deep_walk_embeddings, deep_walk_score)]\n",
    "\n",
    "evaluate(graph, random, true_links, T=100)\n",
    "for params, score in score_funcs:\n",
    "    evaluate(graph, score, true_links, k=10, T=5, kwargs_func=params)"
   ]
  }
 ],
 "metadata": {
  "kernelspec": {
   "display_name": "Python 3",
   "language": "python",
   "name": "python3"
  },
  "language_info": {
   "codemirror_mode": {
    "name": "ipython",
    "version": 3
   },
   "file_extension": ".py",
   "mimetype": "text/x-python",
   "name": "python",
   "nbconvert_exporter": "python",
   "pygments_lexer": "ipython3",
   "version": "3.10.11"
  }
 },
 "nbformat": 4,
 "nbformat_minor": 2
}
