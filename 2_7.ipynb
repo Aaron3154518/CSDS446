{
 "cells": [
  {
   "cell_type": "code",
   "execution_count": 2,
   "metadata": {},
   "outputs": [],
   "source": [
    "import numpy as np\n",
    "import networkx as nx\n",
    "from sklearn.metrics import roc_auc_score\n",
    "import math"
   ]
  },
  {
   "cell_type": "code",
   "execution_count": 3,
   "metadata": {},
   "outputs": [],
   "source": [
    "graph = nx.read_gml(\"karate.gml\")\n",
    "rm_links = [(1, 5), (2, 4), (3, 29), (6, 17), (9, 34), (16, 33), (24, 26), (25, 32)]\n",
    "graph.remove_edges_from(rm_links)"
   ]
  },
  {
   "cell_type": "code",
   "execution_count": 160,
   "metadata": {},
   "outputs": [],
   "source": [
    "from itertools import combinations\n",
    "from typing import Callable, Iterator, Tuple, List\n",
    "\n",
    "ScoreFunc = Callable[[int, int, nx.Graph], float]\n",
    "\n",
    "\n",
    "def preferential_attachment(n: int, m: int, graph: nx.Graph) -> float:\n",
    "    return graph.degree(n) * graph.degree(m)\n",
    "\n",
    "\n",
    "def common_neighbors(n: int, m: int, graph: nx.Graph) -> float:\n",
    "    return len(set(graph.neighbors(n)) & set(graph.neighbors(m)))\n",
    "\n",
    "\n",
    "def jacquard(n: int, m: int, graph: nx.Graph) -> float:\n",
    "    n_n, n_m = set(graph.neighbors(n)), set(graph.neighbors(m))\n",
    "    return len(n_n & n_m) / len(n_n | n_m)\n",
    "\n",
    "\n",
    "def adamic_adar(n: int, m: int, graph: nx.Graph) -> float:\n",
    "    neighbors = set(graph.neighbors(n)) & set(graph.neighbors(m))\n",
    "    return sum(\n",
    "        1 / math.log(graph.degree(k)) if graph.degree(k) > 1 else 0 for k in neighbors\n",
    "    )\n",
    "\n",
    "\n",
    "def random(n: int, m: int, graph: nx.Graph) -> float:\n",
    "    return np.random.uniform(0, 1)\n",
    "\n",
    "\n",
    "def missing_links(graph: nx.Graph) -> Iterator[Tuple[int, int]]:\n",
    "    return filter(lambda ns: not graph.has_edge(*ns), combinations(graph.nodes, 2))\n",
    "\n",
    "\n",
    "def evaluate(\n",
    "    graph: nx.Graph, score: ScoreFunc, true_links: np.ndarray, k: int = 8, T: int = 1\n",
    "):\n",
    "    top_score = acc = auroc = 0\n",
    "    for _ in range(T):\n",
    "        scores = np.array([(n, m, score(n, m, graph)) for n, m in missing_links(graph)])\n",
    "\n",
    "        top_idxs = np.argpartition(scores[:, 2], -k)[-k:]\n",
    "\n",
    "        top_score += scores[top_idxs].sum()\n",
    "        acc += true_links[top_idxs].sum()\n",
    "        auroc += roc_auc_score(true_links, scores[:, 2])\n",
    "\n",
    "    print(score.__name__)\n",
    "    if T > 1:\n",
    "        print(\"Averaged over\", T, \"trials\")\n",
    "    print(\"Top\", k, \"Score:\", top_score / T)\n",
    "    print(\"Accuracy:\", acc / T, \"/\", k)\n",
    "    print(\"AUROC:\", auroc / T)\n",
    "    print()"
   ]
  },
  {
   "cell_type": "code",
   "execution_count": null,
   "metadata": {},
   "outputs": [],
   "source": [
    "score_funcs = [preferential_attachment, common_neighbors, jacquard, adamic_adar]\n",
    "\n",
    "true_links = np.array([(n, m) in rm_links for n, m in missing_links(graph)])\n",
    "\n",
    "evaluate(graph, random, true_links, T=100)\n",
    "for score in score_funcs:\n",
    "    evaluate(graph, score, true_links)"
   ]
  }
 ],
 "metadata": {
  "kernelspec": {
   "display_name": "Python 3",
   "language": "python",
   "name": "python3"
  },
  "language_info": {
   "codemirror_mode": {
    "name": "ipython",
    "version": 3
   },
   "file_extension": ".py",
   "mimetype": "text/x-python",
   "name": "python",
   "nbconvert_exporter": "python",
   "pygments_lexer": "ipython3",
   "version": "3.10.11"
  }
 },
 "nbformat": 4,
 "nbformat_minor": 2
}
